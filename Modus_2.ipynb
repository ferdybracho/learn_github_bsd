{
 "cells": [
  {
   "cell_type": "markdown",
   "metadata": {},
   "source": [
    "### How To Make Mode(Modus) & Anti Modus"
   ]
  },
  {
   "cell_type": "markdown",
   "metadata": {},
   "source": [
    "### Step 1 : Item In List"
   ]
  },
  {
   "cell_type": "code",
   "execution_count": 1,
   "metadata": {},
   "outputs": [],
   "source": [
    "data = [1,2,3,4,5,6,5,4,3,2,1,3,4,5,6,3]"
   ]
  },
  {
   "cell_type": "code",
   "execution_count": 2,
   "metadata": {},
   "outputs": [
    {
     "data": {
      "text/plain": [
       "[1, 2, 3, 4, 5, 6, 5, 4, 3, 2, 1, 3, 4, 5, 6, 3]"
      ]
     },
     "execution_count": 2,
     "metadata": {},
     "output_type": "execute_result"
    }
   ],
   "source": [
    "data"
   ]
  },
  {
   "cell_type": "code",
   "execution_count": 3,
   "metadata": {},
   "outputs": [],
   "source": [
    "elements = list(set(data))\n",
    "sum_elements = {}\n",
    "for element in elements:\n",
    "    sum_element = 0\n",
    "    for item in data:\n",
    "        if element == item :\n",
    "            sum_element += 1\n",
    "            \n",
    "    sum_elements[element] = sum_element"
   ]
  },
  {
   "cell_type": "code",
   "execution_count": 4,
   "metadata": {},
   "outputs": [
    {
     "data": {
      "text/plain": [
       "{1: 2, 2: 2, 3: 4, 4: 3, 5: 3, 6: 2}"
      ]
     },
     "execution_count": 4,
     "metadata": {},
     "output_type": "execute_result"
    }
   ],
   "source": [
    "sum_elements"
   ]
  },
  {
   "cell_type": "markdown",
   "metadata": {},
   "source": [
    "### Step 2 : Item Filtering"
   ]
  },
  {
   "cell_type": "code",
   "execution_count": 6,
   "metadata": {},
   "outputs": [],
   "source": [
    "sum_elements = {}\n",
    "for element in elements:\n",
    "    #sum_element = len(list(filter(lambda x: element == x, data)))\n",
    "    sum_element = data.count(element)\n",
    "    sum_elements[element] = sum_element"
   ]
  },
  {
   "cell_type": "code",
   "execution_count": 7,
   "metadata": {},
   "outputs": [
    {
     "data": {
      "text/plain": [
       "2"
      ]
     },
     "execution_count": 7,
     "metadata": {},
     "output_type": "execute_result"
    }
   ],
   "source": [
    "sum_element"
   ]
  },
  {
   "cell_type": "code",
   "execution_count": 8,
   "metadata": {},
   "outputs": [
    {
     "data": {
      "text/plain": [
       "{1: 2, 2: 2, 3: 4, 4: 3, 5: 3, 6: 2}"
      ]
     },
     "execution_count": 8,
     "metadata": {},
     "output_type": "execute_result"
    }
   ],
   "source": [
    "sum_elements"
   ]
  },
  {
   "cell_type": "code",
   "execution_count": 9,
   "metadata": {},
   "outputs": [
    {
     "data": {
      "text/plain": [
       "3"
      ]
     },
     "execution_count": 9,
     "metadata": {},
     "output_type": "execute_result"
    }
   ],
   "source": [
    "data.count(5)"
   ]
  },
  {
   "cell_type": "markdown",
   "metadata": {},
   "source": [
    "### Step 3 : Sort Data Set on Sum"
   ]
  },
  {
   "cell_type": "code",
   "execution_count": 10,
   "metadata": {},
   "outputs": [],
   "source": [
    "elements = list(sum_elements.keys())"
   ]
  },
  {
   "cell_type": "code",
   "execution_count": 11,
   "metadata": {},
   "outputs": [],
   "source": [
    "sum_elements = list(sum_elements.values())"
   ]
  },
  {
   "cell_type": "code",
   "execution_count": 12,
   "metadata": {},
   "outputs": [],
   "source": [
    "new_elements = []\n",
    "total_element = len(elements)\n",
    "for iteration in range(total_element):\n",
    "    \n",
    "    idx_max = 0\n",
    "    for idx in range(len(sum_elements)):\n",
    "        if sum_elements[idx] > sum_elements[idx_max]:\n",
    "            idx_max = idx    \n",
    "    key = elements[idx_max]\n",
    "    value = sum_elements[idx_max]\n",
    "    new_elements.append((key, value))\n",
    "\n",
    "    elements.pop(idx_max)\n",
    "    sum_elements.pop(idx_max)"
   ]
  },
  {
   "cell_type": "code",
   "execution_count": 13,
   "metadata": {},
   "outputs": [],
   "source": [
    "modes = new_elements[0][0]\n",
    "least = new_elements[-1][0]"
   ]
  },
  {
   "cell_type": "code",
   "execution_count": 14,
   "metadata": {},
   "outputs": [
    {
     "name": "stdout",
     "output_type": "stream",
     "text": [
      "3\n",
      "6\n"
     ]
    }
   ],
   "source": [
    "print(modes)\n",
    "print(least)"
   ]
  },
  {
   "cell_type": "markdown",
   "metadata": {},
   "source": [
    "### Combine 3 Step to only 1 Step"
   ]
  },
  {
   "cell_type": "code",
   "execution_count": 15,
   "metadata": {},
   "outputs": [],
   "source": [
    "def modes_least(data):\n",
    "    \n",
    "    # find unique element\n",
    "    elements = list(set(data))\n",
    "    \n",
    "    # count the frequency\n",
    "    sum_elements = {}\n",
    "    for element in elements:\n",
    "\n",
    "        sum_element = 0\n",
    "        for item in data:\n",
    "\n",
    "            if element == item:\n",
    "                sum_element += 1\n",
    "\n",
    "        sum_elements[element] = sum_element\n",
    "    \n",
    "    # sort the data\n",
    "    elements = list(sum_elements.keys())\n",
    "    sum_elements = list(sum_elements.values())\n",
    "    \n",
    "    new_elements = []\n",
    "\n",
    "    total_element = len(elements)\n",
    "    for iteration in range(total_element):\n",
    "\n",
    "        idx_max = 0\n",
    "        for idx in range(len(sum_elements)):\n",
    "\n",
    "            if sum_elements[idx] > sum_elements[idx_max]:\n",
    "                idx_max = idx\n",
    "\n",
    "        key = elements[idx_max]\n",
    "        value = sum_elements[idx_max]\n",
    "        new_elements.append((key, value))\n",
    "\n",
    "        elements.pop(idx_max)\n",
    "        sum_elements.pop(idx_max)\n",
    "    \n",
    "    modes = new_elements[0][0]\n",
    "    least = new_elements[-1][0]\n",
    "    \n",
    "    return modes, least"
   ]
  },
  {
   "cell_type": "code",
   "execution_count": 16,
   "metadata": {},
   "outputs": [],
   "source": [
    "nyoba = [1, 2, 3, 4, 5, 6, 7, 7, 7, 12, 23, 12, 12, 12, 12, 12, 32]"
   ]
  },
  {
   "cell_type": "code",
   "execution_count": 17,
   "metadata": {},
   "outputs": [
    {
     "data": {
      "text/plain": [
       "(12, 23)"
      ]
     },
     "execution_count": 17,
     "metadata": {},
     "output_type": "execute_result"
    }
   ],
   "source": [
    "modes_least(nyoba)"
   ]
  },
  {
   "cell_type": "code",
   "execution_count": null,
   "metadata": {},
   "outputs": [],
   "source": []
  }
 ],
 "metadata": {
  "kernelspec": {
   "display_name": "Python 3",
   "language": "python",
   "name": "python3"
  },
  "language_info": {
   "codemirror_mode": {
    "name": "ipython",
    "version": 3
   },
   "file_extension": ".py",
   "mimetype": "text/x-python",
   "name": "python",
   "nbconvert_exporter": "python",
   "pygments_lexer": "ipython3",
   "version": "3.7.1"
  }
 },
 "nbformat": 4,
 "nbformat_minor": 2
}
